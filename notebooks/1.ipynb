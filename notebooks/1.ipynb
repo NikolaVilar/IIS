{
 "cells": [
  {
   "cell_type": "code",
   "execution_count": 3,
   "metadata": {},
   "outputs": [],
   "source": [
    "import json\n",
    "import requests"
   ]
  },
  {
   "cell_type": "code",
   "execution_count": 54,
   "metadata": {},
   "outputs": [
    {
     "name": "stdout",
     "output_type": "stream",
     "text": [
      "Fetched main datset\n"
     ]
    }
   ],
   "source": [
    "data = []\n",
    "url = \"https://api.jcdecaux.com/vls/v1/stations?contract=maribor&apiKey=5e150537116dbc1786ce5bec6975a8603286526b\"\n",
    "response = requests.get(url)\n",
    "if response.status_code == 200:\n",
    "    print(\"Fetched main datset\")\n",
    "    data = json.loads(response.content)\n",
    "else:\n",
    "    print(\"Failed to retrieve JSON data\")"
   ]
  },
  {
   "cell_type": "code",
   "execution_count": 55,
   "metadata": {},
   "outputs": [
    {
     "name": "stdout",
     "output_type": "stream",
     "text": [
      "[{'number': 1, 'contract_name': 'maribor', 'name': 'GOSPOSVETSKA C. - TURNERJEVA UL.', 'address': 'Gosposvetska cesta 69', 'position': {'lat': 46.562695, 'lng': 15.62935}, 'banking': False, 'bonus': False, 'bike_stands': 22, 'available_bike_stands': 9, 'available_bikes': 13, 'status': 'OPEN', 'last_update': 1710015658000}]\n"
     ]
    }
   ],
   "source": [
    "filtered_data = [record for record in data if record.get('name') == \"GOSPOSVETSKA C. - TURNERJEVA UL.\"]\n",
    "print(filtered_data)"
   ]
  },
  {
   "cell_type": "code",
   "execution_count": 56,
   "metadata": {},
   "outputs": [
    {
     "name": "stdout",
     "output_type": "stream",
     "text": [
      "{'number': 1, 'contract_name': 'maribor', 'name': 'GOSPOSVETSKA C. - TURNERJEVA UL.', 'address': 'Gosposvetska cesta 69', 'banking': False, 'bonus': False, 'bike_stands': 22, 'available_bike_stands': 9, 'available_bikes': 13, 'status': 'OPEN', 'last_update': 1710015658000, 'lat': 46.562695, 'lng': 15.62935}\n"
     ]
    }
   ],
   "source": [
    "import pandas as pd\n",
    "\n",
    "\n",
    "# Convert the 'position' dictionary into separate 'lat' and 'lng' columns\n",
    "for record in filtered_data:\n",
    "    position = record.pop('position')  # Remove 'position' and store its value\n",
    "    record['lat'] = position['lat']  # Add 'lat' to the record\n",
    "    record['lng'] = position['lng']  # Add 'lng' to the record\n",
    "    print(record)\n",
    "\n",
    "# Create a DataFrame\n",
    "df = pd.DataFrame(filtered_data)"
   ]
  },
  {
   "cell_type": "code",
   "execution_count": 52,
   "metadata": {},
   "outputs": [
    {
     "data": {
      "text/html": [
       "<div>\n",
       "<style scoped>\n",
       "    .dataframe tbody tr th:only-of-type {\n",
       "        vertical-align: middle;\n",
       "    }\n",
       "\n",
       "    .dataframe tbody tr th {\n",
       "        vertical-align: top;\n",
       "    }\n",
       "\n",
       "    .dataframe thead th {\n",
       "        text-align: right;\n",
       "    }\n",
       "</style>\n",
       "<table border=\"1\" class=\"dataframe\">\n",
       "  <thead>\n",
       "    <tr style=\"text-align: right;\">\n",
       "      <th></th>\n",
       "      <th>number</th>\n",
       "      <th>contract_name</th>\n",
       "      <th>name</th>\n",
       "      <th>address</th>\n",
       "      <th>banking</th>\n",
       "      <th>bonus</th>\n",
       "      <th>bike_stands</th>\n",
       "      <th>available_bike_stands</th>\n",
       "      <th>available_bikes</th>\n",
       "      <th>status</th>\n",
       "      <th>last_update</th>\n",
       "      <th>lat</th>\n",
       "      <th>lng</th>\n",
       "    </tr>\n",
       "  </thead>\n",
       "  <tbody>\n",
       "    <tr>\n",
       "      <th>0</th>\n",
       "      <td>1</td>\n",
       "      <td>maribor</td>\n",
       "      <td>GOSPOSVETSKA C. - TURNERJEVA UL.</td>\n",
       "      <td>Gosposvetska cesta 69</td>\n",
       "      <td>False</td>\n",
       "      <td>False</td>\n",
       "      <td>22</td>\n",
       "      <td>9</td>\n",
       "      <td>13</td>\n",
       "      <td>OPEN</td>\n",
       "      <td>1710015658000</td>\n",
       "      <td>46.562695</td>\n",
       "      <td>15.62935</td>\n",
       "    </tr>\n",
       "  </tbody>\n",
       "</table>\n",
       "</div>"
      ],
      "text/plain": [
       "   number contract_name                              name  \\\n",
       "0       1       maribor  GOSPOSVETSKA C. - TURNERJEVA UL.   \n",
       "\n",
       "                 address  banking  bonus  bike_stands  available_bike_stands  \\\n",
       "0  Gosposvetska cesta 69    False  False           22                      9   \n",
       "\n",
       "   available_bikes status    last_update        lat       lng  \n",
       "0               13   OPEN  1710015658000  46.562695  15.62935  "
      ]
     },
     "execution_count": 52,
     "metadata": {},
     "output_type": "execute_result"
    }
   ],
   "source": [
    "df"
   ]
  },
  {
   "cell_type": "code",
   "execution_count": 57,
   "metadata": {},
   "outputs": [
    {
     "data": {
      "text/html": [
       "<div>\n",
       "<style scoped>\n",
       "    .dataframe tbody tr th:only-of-type {\n",
       "        vertical-align: middle;\n",
       "    }\n",
       "\n",
       "    .dataframe tbody tr th {\n",
       "        vertical-align: top;\n",
       "    }\n",
       "\n",
       "    .dataframe thead th {\n",
       "        text-align: right;\n",
       "    }\n",
       "</style>\n",
       "<table border=\"1\" class=\"dataframe\">\n",
       "  <thead>\n",
       "    <tr style=\"text-align: right;\">\n",
       "      <th></th>\n",
       "      <th>contract_name</th>\n",
       "      <th>name</th>\n",
       "      <th>address</th>\n",
       "      <th>banking</th>\n",
       "      <th>bonus</th>\n",
       "      <th>bike_stands</th>\n",
       "      <th>available_bike_stands</th>\n",
       "      <th>available_bikes</th>\n",
       "      <th>status</th>\n",
       "      <th>last_update</th>\n",
       "      <th>lat</th>\n",
       "      <th>lng</th>\n",
       "      <th>number</th>\n",
       "    </tr>\n",
       "  </thead>\n",
       "  <tbody>\n",
       "    <tr>\n",
       "      <th>0</th>\n",
       "      <td>maribor</td>\n",
       "      <td>GOSPOSVETSKA C. - TURNERJEVA UL.</td>\n",
       "      <td>Gosposvetska cesta 69</td>\n",
       "      <td>False</td>\n",
       "      <td>False</td>\n",
       "      <td>22</td>\n",
       "      <td>10</td>\n",
       "      <td>12</td>\n",
       "      <td>OPEN</td>\n",
       "      <td>1710014510000</td>\n",
       "      <td>46.562695</td>\n",
       "      <td>15.62935</td>\n",
       "      <td>NaN</td>\n",
       "    </tr>\n",
       "    <tr>\n",
       "      <th>1</th>\n",
       "      <td>maribor</td>\n",
       "      <td>GOSPOSVETSKA C. - TURNERJEVA UL.</td>\n",
       "      <td>Gosposvetska cesta 69</td>\n",
       "      <td>False</td>\n",
       "      <td>False</td>\n",
       "      <td>22</td>\n",
       "      <td>9</td>\n",
       "      <td>13</td>\n",
       "      <td>OPEN</td>\n",
       "      <td>1710015052000</td>\n",
       "      <td>46.562695</td>\n",
       "      <td>15.62935</td>\n",
       "      <td>NaN</td>\n",
       "    </tr>\n",
       "    <tr>\n",
       "      <th>2</th>\n",
       "      <td>maribor</td>\n",
       "      <td>GOSPOSVETSKA C. - TURNERJEVA UL.</td>\n",
       "      <td>Gosposvetska cesta 69</td>\n",
       "      <td>False</td>\n",
       "      <td>False</td>\n",
       "      <td>22</td>\n",
       "      <td>9</td>\n",
       "      <td>13</td>\n",
       "      <td>OPEN</td>\n",
       "      <td>1710015658000</td>\n",
       "      <td>46.562695</td>\n",
       "      <td>15.62935</td>\n",
       "      <td>1.0</td>\n",
       "    </tr>\n",
       "  </tbody>\n",
       "</table>\n",
       "</div>"
      ],
      "text/plain": [
       "  contract_name                              name                address  \\\n",
       "0       maribor  GOSPOSVETSKA C. - TURNERJEVA UL.  Gosposvetska cesta 69   \n",
       "1       maribor  GOSPOSVETSKA C. - TURNERJEVA UL.  Gosposvetska cesta 69   \n",
       "2       maribor  GOSPOSVETSKA C. - TURNERJEVA UL.  Gosposvetska cesta 69   \n",
       "\n",
       "   banking  bonus  bike_stands  available_bike_stands  available_bikes status  \\\n",
       "0    False  False           22                     10               12   OPEN   \n",
       "1    False  False           22                      9               13   OPEN   \n",
       "2    False  False           22                      9               13   OPEN   \n",
       "\n",
       "     last_update        lat       lng  number  \n",
       "0  1710014510000  46.562695  15.62935     NaN  \n",
       "1  1710015052000  46.562695  15.62935     NaN  \n",
       "2  1710015658000  46.562695  15.62935     1.0  "
      ]
     },
     "execution_count": 57,
     "metadata": {},
     "output_type": "execute_result"
    }
   ],
   "source": [
    "odf = pd.read_csv('../data/raw/mbajk_api.csv', index_col=0)\n",
    "last_update = df['last_update'].values[0]\n",
    "if last_update not in odf['last_update'].values:\n",
    "    odf = pd.concat([odf, df], axis=0).reset_index(drop=True)\n",
    "\n",
    "odf"
   ]
  },
  {
   "cell_type": "code",
   "execution_count": 178,
   "metadata": {},
   "outputs": [
    {
     "data": {
      "text/html": [
       "<div>\n",
       "<style scoped>\n",
       "    .dataframe tbody tr th:only-of-type {\n",
       "        vertical-align: middle;\n",
       "    }\n",
       "\n",
       "    .dataframe tbody tr th {\n",
       "        vertical-align: top;\n",
       "    }\n",
       "\n",
       "    .dataframe thead th {\n",
       "        text-align: right;\n",
       "    }\n",
       "</style>\n",
       "<table border=\"1\" class=\"dataframe\">\n",
       "  <thead>\n",
       "    <tr style=\"text-align: right;\">\n",
       "      <th></th>\n",
       "      <th>available_bike_stands</th>\n",
       "      <th>date</th>\n",
       "    </tr>\n",
       "  </thead>\n",
       "  <tbody>\n",
       "    <tr>\n",
       "      <th>0</th>\n",
       "      <td>10</td>\n",
       "      <td>2024-03-09 20:01:50</td>\n",
       "    </tr>\n",
       "    <tr>\n",
       "      <th>1</th>\n",
       "      <td>9</td>\n",
       "      <td>2024-03-09 20:10:52</td>\n",
       "    </tr>\n",
       "    <tr>\n",
       "      <th>2</th>\n",
       "      <td>9</td>\n",
       "      <td>2024-03-09 20:20:58</td>\n",
       "    </tr>\n",
       "  </tbody>\n",
       "</table>\n",
       "</div>"
      ],
      "text/plain": [
       "   available_bike_stands                date\n",
       "0                     10 2024-03-09 20:01:50\n",
       "1                      9 2024-03-09 20:10:52\n",
       "2                      9 2024-03-09 20:20:58"
      ]
     },
     "execution_count": 178,
     "metadata": {},
     "output_type": "execute_result"
    }
   ],
   "source": [
    "df1 = odf[['last_update', 'available_bike_stands', ]].copy()\n",
    "df1['date'] = pd.to_datetime(df1['last_update'], unit='ms')\n",
    "df1 = df1.drop(columns='last_update')\n",
    "df1"
   ]
  },
  {
   "cell_type": "code",
   "execution_count": 179,
   "metadata": {},
   "outputs": [
    {
     "data": {
      "text/html": [
       "<div>\n",
       "<style scoped>\n",
       "    .dataframe tbody tr th:only-of-type {\n",
       "        vertical-align: middle;\n",
       "    }\n",
       "\n",
       "    .dataframe tbody tr th {\n",
       "        vertical-align: top;\n",
       "    }\n",
       "\n",
       "    .dataframe thead th {\n",
       "        text-align: right;\n",
       "    }\n",
       "</style>\n",
       "<table border=\"1\" class=\"dataframe\">\n",
       "  <thead>\n",
       "    <tr style=\"text-align: right;\">\n",
       "      <th></th>\n",
       "      <th>date_hour</th>\n",
       "      <th>available_bike_stands</th>\n",
       "    </tr>\n",
       "  </thead>\n",
       "  <tbody>\n",
       "    <tr>\n",
       "      <th>0</th>\n",
       "      <td>2024-03-09 20:00:00</td>\n",
       "      <td>9</td>\n",
       "    </tr>\n",
       "  </tbody>\n",
       "</table>\n",
       "</div>"
      ],
      "text/plain": [
       "            date_hour  available_bike_stands\n",
       "0 2024-03-09 20:00:00                      9"
      ]
     },
     "execution_count": 179,
     "metadata": {},
     "output_type": "execute_result"
    }
   ],
   "source": [
    "import math\n",
    "df1['date_hour'] = df1['date'].dt.floor('h')\n",
    "result = df1.groupby('date_hour')['available_bike_stands'].mean().reset_index()\n",
    "result['available_bike_stands'] = result['available_bike_stands'].apply(math.floor)\n",
    "df1 = result.copy()\n",
    "df1"
   ]
  },
  {
   "cell_type": "code",
   "execution_count": 180,
   "metadata": {},
   "outputs": [
    {
     "data": {
      "text/html": [
       "<div>\n",
       "<style scoped>\n",
       "    .dataframe tbody tr th:only-of-type {\n",
       "        vertical-align: middle;\n",
       "    }\n",
       "\n",
       "    .dataframe tbody tr th {\n",
       "        vertical-align: top;\n",
       "    }\n",
       "\n",
       "    .dataframe thead th {\n",
       "        text-align: right;\n",
       "    }\n",
       "</style>\n",
       "<table border=\"1\" class=\"dataframe\">\n",
       "  <thead>\n",
       "    <tr style=\"text-align: right;\">\n",
       "      <th></th>\n",
       "      <th>date_hour</th>\n",
       "      <th>available_bike_stands</th>\n",
       "    </tr>\n",
       "  </thead>\n",
       "  <tbody>\n",
       "    <tr>\n",
       "      <th>0</th>\n",
       "      <td>2023-06-25 19:00:00</td>\n",
       "      <td>7</td>\n",
       "    </tr>\n",
       "    <tr>\n",
       "      <th>1</th>\n",
       "      <td>2023-06-25 20:00:00</td>\n",
       "      <td>8</td>\n",
       "    </tr>\n",
       "    <tr>\n",
       "      <th>2</th>\n",
       "      <td>2023-06-25 21:00:00</td>\n",
       "      <td>4</td>\n",
       "    </tr>\n",
       "    <tr>\n",
       "      <th>3</th>\n",
       "      <td>2023-06-25 22:00:00</td>\n",
       "      <td>0</td>\n",
       "    </tr>\n",
       "    <tr>\n",
       "      <th>4</th>\n",
       "      <td>2023-06-25 23:00:00</td>\n",
       "      <td>0</td>\n",
       "    </tr>\n",
       "    <tr>\n",
       "      <th>...</th>\n",
       "      <td>...</td>\n",
       "      <td>...</td>\n",
       "    </tr>\n",
       "    <tr>\n",
       "      <th>2339</th>\n",
       "      <td>2023-10-03 11:00:00</td>\n",
       "      <td>12</td>\n",
       "    </tr>\n",
       "    <tr>\n",
       "      <th>2340</th>\n",
       "      <td>2023-10-03 12:00:00</td>\n",
       "      <td>16</td>\n",
       "    </tr>\n",
       "    <tr>\n",
       "      <th>2341</th>\n",
       "      <td>2023-10-03 13:00:00</td>\n",
       "      <td>20</td>\n",
       "    </tr>\n",
       "    <tr>\n",
       "      <th>2342</th>\n",
       "      <td>2023-10-03 14:00:00</td>\n",
       "      <td>19</td>\n",
       "    </tr>\n",
       "    <tr>\n",
       "      <th>2343</th>\n",
       "      <td>2023-10-03 15:00:00</td>\n",
       "      <td>12</td>\n",
       "    </tr>\n",
       "  </tbody>\n",
       "</table>\n",
       "<p>2344 rows × 2 columns</p>\n",
       "</div>"
      ],
      "text/plain": [
       "               date_hour  available_bike_stands\n",
       "0    2023-06-25 19:00:00                      7\n",
       "1    2023-06-25 20:00:00                      8\n",
       "2    2023-06-25 21:00:00                      4\n",
       "3    2023-06-25 22:00:00                      0\n",
       "4    2023-06-25 23:00:00                      0\n",
       "...                  ...                    ...\n",
       "2339 2023-10-03 11:00:00                     12\n",
       "2340 2023-10-03 12:00:00                     16\n",
       "2341 2023-10-03 13:00:00                     20\n",
       "2342 2023-10-03 14:00:00                     19\n",
       "2343 2023-10-03 15:00:00                     12\n",
       "\n",
       "[2344 rows x 2 columns]"
      ]
     },
     "execution_count": 180,
     "metadata": {},
     "output_type": "execute_result"
    }
   ],
   "source": [
    "\n",
    "df2 = pd.read_csv('../data/raw/mbajk_dataset.csv')\n",
    "df2['date'] = pd.to_datetime(df2['date'])\n",
    "df2['date'] = df2['date'].dt.strftime('%Y-%m-%d %H:%M:%S')\n",
    "df2['date'] = pd.to_datetime(df2['date'])\n",
    "df2 = df2[['date', 'available_bike_stands']]\n",
    "df2['date_hour'] = df2['date'].dt.floor('h')\n",
    "\n",
    "result = df2.groupby('date_hour')['available_bike_stands'].mean().reset_index()\n",
    "result['available_bike_stands'] = result['available_bike_stands'].apply(math.floor)\n",
    "df2 = result.copy()\n",
    "df2"
   ]
  },
  {
   "cell_type": "code",
   "execution_count": 181,
   "metadata": {},
   "outputs": [],
   "source": [
    "df = pd.concat([df2, df1], axis=0).reset_index(drop=True)\n"
   ]
  },
  {
   "cell_type": "code",
   "execution_count": 182,
   "metadata": {},
   "outputs": [
    {
     "data": {
      "text/html": [
       "<div>\n",
       "<style scoped>\n",
       "    .dataframe tbody tr th:only-of-type {\n",
       "        vertical-align: middle;\n",
       "    }\n",
       "\n",
       "    .dataframe tbody tr th {\n",
       "        vertical-align: top;\n",
       "    }\n",
       "\n",
       "    .dataframe thead th {\n",
       "        text-align: right;\n",
       "    }\n",
       "</style>\n",
       "<table border=\"1\" class=\"dataframe\">\n",
       "  <thead>\n",
       "    <tr style=\"text-align: right;\">\n",
       "      <th></th>\n",
       "      <th>date_hour</th>\n",
       "      <th>available_bike_stands</th>\n",
       "    </tr>\n",
       "  </thead>\n",
       "  <tbody>\n",
       "    <tr>\n",
       "      <th>0</th>\n",
       "      <td>2023-06-25 19:00:00</td>\n",
       "      <td>7</td>\n",
       "    </tr>\n",
       "    <tr>\n",
       "      <th>1</th>\n",
       "      <td>2023-06-25 20:00:00</td>\n",
       "      <td>8</td>\n",
       "    </tr>\n",
       "    <tr>\n",
       "      <th>2</th>\n",
       "      <td>2023-06-25 21:00:00</td>\n",
       "      <td>4</td>\n",
       "    </tr>\n",
       "    <tr>\n",
       "      <th>3</th>\n",
       "      <td>2023-06-25 22:00:00</td>\n",
       "      <td>0</td>\n",
       "    </tr>\n",
       "    <tr>\n",
       "      <th>4</th>\n",
       "      <td>2023-06-25 23:00:00</td>\n",
       "      <td>0</td>\n",
       "    </tr>\n",
       "    <tr>\n",
       "      <th>...</th>\n",
       "      <td>...</td>\n",
       "      <td>...</td>\n",
       "    </tr>\n",
       "    <tr>\n",
       "      <th>2340</th>\n",
       "      <td>2023-10-03 12:00:00</td>\n",
       "      <td>16</td>\n",
       "    </tr>\n",
       "    <tr>\n",
       "      <th>2341</th>\n",
       "      <td>2023-10-03 13:00:00</td>\n",
       "      <td>20</td>\n",
       "    </tr>\n",
       "    <tr>\n",
       "      <th>2342</th>\n",
       "      <td>2023-10-03 14:00:00</td>\n",
       "      <td>19</td>\n",
       "    </tr>\n",
       "    <tr>\n",
       "      <th>2343</th>\n",
       "      <td>2023-10-03 15:00:00</td>\n",
       "      <td>12</td>\n",
       "    </tr>\n",
       "    <tr>\n",
       "      <th>2344</th>\n",
       "      <td>2024-03-09 20:00:00</td>\n",
       "      <td>9</td>\n",
       "    </tr>\n",
       "  </tbody>\n",
       "</table>\n",
       "<p>2345 rows × 2 columns</p>\n",
       "</div>"
      ],
      "text/plain": [
       "               date_hour  available_bike_stands\n",
       "0    2023-06-25 19:00:00                      7\n",
       "1    2023-06-25 20:00:00                      8\n",
       "2    2023-06-25 21:00:00                      4\n",
       "3    2023-06-25 22:00:00                      0\n",
       "4    2023-06-25 23:00:00                      0\n",
       "...                  ...                    ...\n",
       "2340 2023-10-03 12:00:00                     16\n",
       "2341 2023-10-03 13:00:00                     20\n",
       "2342 2023-10-03 14:00:00                     19\n",
       "2343 2023-10-03 15:00:00                     12\n",
       "2344 2024-03-09 20:00:00                      9\n",
       "\n",
       "[2345 rows x 2 columns]"
      ]
     },
     "execution_count": 182,
     "metadata": {},
     "output_type": "execute_result"
    }
   ],
   "source": [
    "df"
   ]
  },
  {
   "cell_type": "code",
   "execution_count": 183,
   "metadata": {},
   "outputs": [],
   "source": [
    "\n",
    "df['date_hour'] = pd.to_datetime(df['date_hour'])\n",
    "df['date_hour'] = df['date_hour'].dt.tz_localize(None)\n",
    "df = df.sort_values(by='date_hour')\n",
    "df"
   ]
  },
  {
   "cell_type": "code",
   "execution_count": 184,
   "metadata": {},
   "outputs": [
    {
     "data": {
      "text/html": [
       "<div>\n",
       "<style scoped>\n",
       "    .dataframe tbody tr th:only-of-type {\n",
       "        vertical-align: middle;\n",
       "    }\n",
       "\n",
       "    .dataframe tbody tr th {\n",
       "        vertical-align: top;\n",
       "    }\n",
       "\n",
       "    .dataframe thead th {\n",
       "        text-align: right;\n",
       "    }\n",
       "</style>\n",
       "<table border=\"1\" class=\"dataframe\">\n",
       "  <thead>\n",
       "    <tr style=\"text-align: right;\">\n",
       "      <th></th>\n",
       "      <th>date_hour</th>\n",
       "      <th>available_bike_stands</th>\n",
       "    </tr>\n",
       "  </thead>\n",
       "  <tbody>\n",
       "    <tr>\n",
       "      <th>0</th>\n",
       "      <td>2023-06-25 19:00:00</td>\n",
       "      <td>7</td>\n",
       "    </tr>\n",
       "    <tr>\n",
       "      <th>1</th>\n",
       "      <td>2023-06-25 20:00:00</td>\n",
       "      <td>8</td>\n",
       "    </tr>\n",
       "    <tr>\n",
       "      <th>2</th>\n",
       "      <td>2023-06-25 21:00:00</td>\n",
       "      <td>4</td>\n",
       "    </tr>\n",
       "    <tr>\n",
       "      <th>3</th>\n",
       "      <td>2023-06-25 22:00:00</td>\n",
       "      <td>0</td>\n",
       "    </tr>\n",
       "    <tr>\n",
       "      <th>4</th>\n",
       "      <td>2023-06-25 23:00:00</td>\n",
       "      <td>0</td>\n",
       "    </tr>\n",
       "    <tr>\n",
       "      <th>...</th>\n",
       "      <td>...</td>\n",
       "      <td>...</td>\n",
       "    </tr>\n",
       "    <tr>\n",
       "      <th>2340</th>\n",
       "      <td>2023-10-03 12:00:00</td>\n",
       "      <td>16</td>\n",
       "    </tr>\n",
       "    <tr>\n",
       "      <th>2341</th>\n",
       "      <td>2023-10-03 13:00:00</td>\n",
       "      <td>20</td>\n",
       "    </tr>\n",
       "    <tr>\n",
       "      <th>2342</th>\n",
       "      <td>2023-10-03 14:00:00</td>\n",
       "      <td>19</td>\n",
       "    </tr>\n",
       "    <tr>\n",
       "      <th>2343</th>\n",
       "      <td>2023-10-03 15:00:00</td>\n",
       "      <td>12</td>\n",
       "    </tr>\n",
       "    <tr>\n",
       "      <th>2344</th>\n",
       "      <td>2024-03-09 20:00:00</td>\n",
       "      <td>9</td>\n",
       "    </tr>\n",
       "  </tbody>\n",
       "</table>\n",
       "<p>2345 rows × 2 columns</p>\n",
       "</div>"
      ],
      "text/plain": [
       "               date_hour  available_bike_stands\n",
       "0    2023-06-25 19:00:00                      7\n",
       "1    2023-06-25 20:00:00                      8\n",
       "2    2023-06-25 21:00:00                      4\n",
       "3    2023-06-25 22:00:00                      0\n",
       "4    2023-06-25 23:00:00                      0\n",
       "...                  ...                    ...\n",
       "2340 2023-10-03 12:00:00                     16\n",
       "2341 2023-10-03 13:00:00                     20\n",
       "2342 2023-10-03 14:00:00                     19\n",
       "2343 2023-10-03 15:00:00                     12\n",
       "2344 2024-03-09 20:00:00                      9\n",
       "\n",
       "[2345 rows x 2 columns]"
      ]
     },
     "execution_count": 184,
     "metadata": {},
     "output_type": "execute_result"
    }
   ],
   "source": [
    "df"
   ]
  },
  {
   "cell_type": "code",
   "execution_count": 2,
   "metadata": {},
   "outputs": [
    {
     "name": "stdout",
     "output_type": "stream",
     "text": [
      "Epoch 1/10\n",
      "73/73 [==============================] - 1s 3ms/step - loss: 167.0644\n",
      "Epoch 2/10\n",
      "73/73 [==============================] - 0s 3ms/step - loss: 137.8118\n",
      "Epoch 3/10\n",
      "73/73 [==============================] - 0s 3ms/step - loss: 121.7990\n",
      "Epoch 4/10\n",
      "73/73 [==============================] - 0s 3ms/step - loss: 108.4780\n",
      "Epoch 5/10\n",
      "73/73 [==============================] - 0s 2ms/step - loss: 96.7959\n",
      "Epoch 6/10\n",
      "73/73 [==============================] - 0s 2ms/step - loss: 86.4704\n",
      "Epoch 7/10\n",
      "73/73 [==============================] - 0s 2ms/step - loss: 77.2634\n",
      "Epoch 8/10\n",
      "73/73 [==============================] - 0s 3ms/step - loss: 69.0690\n",
      "Epoch 9/10\n",
      "73/73 [==============================] - 0s 2ms/step - loss: 61.7448\n",
      "Epoch 10/10\n",
      "73/73 [==============================] - 0s 2ms/step - loss: 55.2343\n"
     ]
    },
    {
     "data": {
      "text/plain": [
       "<keras.callbacks.History at 0x225266c0d60>"
      ]
     },
     "execution_count": 2,
     "metadata": {},
     "output_type": "execute_result"
    }
   ],
   "source": [
    "import pandas as pd\n",
    "import numpy as np\n",
    "from tensorflow.keras.models import Sequential\n",
    "from tensorflow.keras.layers import SimpleRNN, Dense\n",
    "from tensorflow.keras.callbacks import CSVLogger\n",
    "\n",
    "# Load data from CSV file into a DataFrame\n",
    "def load_data(file_path):\n",
    "    data = pd.read_csv(file_path)\n",
    "    return data\n",
    "\n",
    "# Define model architecture\n",
    "def build_model(input_shape):\n",
    "    model = Sequential([\n",
    "        SimpleRNN(10, input_shape=input_shape),\n",
    "        Dense(1)\n",
    "    ])\n",
    "    model.compile(optimizer='adam', loss='mse')\n",
    "    return model\n",
    "\n",
    "# Load data\n",
    "file_path = '../data/processed/data.csv'  # Update with your file path\n",
    "data_df = load_data(file_path)\n",
    "csv_logger = CSVLogger('../reports/train_metrics.txt')\n",
    "\n",
    "# Define input sequence length\n",
    "sequence_length = 10\n",
    "\n",
    "# Build input sequences and targets\n",
    "X = []\n",
    "y = []\n",
    "for i in range(len(data_df) - sequence_length):\n",
    "    X.append(data_df['available_bike_stands'].iloc[i:i+sequence_length])\n",
    "    y.append(data_df['available_bike_stands'].iloc[i+sequence_length])\n",
    "X = np.array(X)\n",
    "y = np.array(y)\n",
    "\n",
    "# Reshape input data\n",
    "X = X.reshape(-1, sequence_length, 1)\n",
    "\n",
    "# Build model\n",
    "input_shape = (sequence_length, 1)\n",
    "model = build_model(input_shape)\n",
    "\n",
    "# Train model\n",
    "model.fit(X, y, epochs=10, batch_size=32, callbacks=[csv_logger])\n"
   ]
  },
  {
   "cell_type": "code",
   "execution_count": 3,
   "metadata": {},
   "outputs": [],
   "source": [
    "model.save('../models/simple-rnn.h5')"
   ]
  },
  {
   "cell_type": "code",
   "execution_count": 2,
   "metadata": {},
   "outputs": [
    {
     "data": {
      "text/plain": [
       "array([[1],\n",
       "       [2],\n",
       "       [3],\n",
       "       [4],\n",
       "       [5],\n",
       "       [6]])"
      ]
     },
     "execution_count": 2,
     "metadata": {},
     "output_type": "execute_result"
    }
   ],
   "source": [
    "import numpy as np\n",
    "data = np.array([1,2,3,4,5,6])\n",
    "data = data.reshape(-1, 1)\n",
    "data"
   ]
  },
  {
   "cell_type": "code",
   "execution_count": 1,
   "metadata": {},
   "outputs": [
    {
     "name": "stdout",
     "output_type": "stream",
     "text": [
      "2024-03-11\n"
     ]
    }
   ],
   "source": [
    "from datetime import datetime\n",
    "\n",
    "# Get the current date\n",
    "current_date = datetime.now()\n",
    "\n",
    "# Format the date to YYYY-MM-DD\n",
    "formatted_date = current_date.strftime('%Y-%m-%d')\n",
    "\n",
    "print(formatted_date)\n"
   ]
  },
  {
   "cell_type": "code",
   "execution_count": 2,
   "metadata": {},
   "outputs": [
    {
     "name": "stdout",
     "output_type": "stream",
     "text": [
      "20\n"
     ]
    }
   ],
   "source": [
    "# Syntax\n",
    "# variable = value_if_true if condition else value_if_false\n",
    "\n",
    "# Example\n",
    "x = 10\n",
    "y = 20\n",
    "max_value = x if x > y else y\n",
    "\n",
    "print(max_value)\n"
   ]
  },
  {
   "cell_type": "code",
   "execution_count": 11,
   "metadata": {},
   "outputs": [
    {
     "name": "stdout",
     "output_type": "stream",
     "text": [
      "Successfully retrieved data\n"
     ]
    }
   ],
   "source": [
    "WEATHER_URL = 'https://api.open-meteo.com/v1/forecast?'\n",
    "lat = 46.562695\n",
    "lon = 15.62935\n",
    "\n",
    "url = WEATHER_URL + f'latitude={lat}&longitude={lon}&'\n",
    "url += '&hourly=temperature_2m,relative_humidity_2m,wind_speed_10m&forecast_days=1'\n",
    "\n",
    "response = requests.get(url)\n",
    "if response.status_code == 200:\n",
    "    print(\"Successfully retrieved data\")\n",
    "    data = json.loads(response.content)\n",
    "else:\n",
    "    print(\"Failed to retrieve JSON data\")\n",
    "\n",
    "data = data['hourly']\n",
    "\n"
   ]
  },
  {
   "cell_type": "code",
   "execution_count": 12,
   "metadata": {},
   "outputs": [
    {
     "name": "stdout",
     "output_type": "stream",
     "text": [
      "                  time  temperature_2m  relative_humidity_2m  wind_speed_10m\n",
      "0  2024-03-11 00:00:00             7.7                    92             1.8\n",
      "1  2024-03-11 01:00:00             7.7                    92             4.1\n",
      "2  2024-03-11 02:00:00             6.9                    89             3.3\n",
      "3  2024-03-11 03:00:00             6.4                    90             1.6\n",
      "4  2024-03-11 04:00:00             5.6                    89             1.9\n",
      "5  2024-03-11 05:00:00             5.2                    89             3.2\n",
      "6  2024-03-11 06:00:00             5.1                    92             4.6\n",
      "7  2024-03-11 07:00:00             5.6                    94             1.6\n",
      "8  2024-03-11 08:00:00             7.7                    89             2.4\n",
      "9  2024-03-11 09:00:00             9.2                    85             2.7\n",
      "10 2024-03-11 10:00:00             9.6                    84             4.3\n",
      "11 2024-03-11 11:00:00             9.6                    87             6.9\n",
      "12 2024-03-11 12:00:00             9.7                    80            10.4\n",
      "13 2024-03-11 13:00:00             9.2                    78            12.7\n",
      "14 2024-03-11 14:00:00             8.8                    82            13.6\n",
      "15 2024-03-11 15:00:00             8.8                    86            15.8\n",
      "16 2024-03-11 16:00:00             8.4                    83            18.1\n",
      "17 2024-03-11 17:00:00             7.7                    82            16.1\n",
      "18 2024-03-11 18:00:00             7.2                    82            20.5\n",
      "19 2024-03-11 19:00:00             7.1                    81            21.6\n",
      "20 2024-03-11 20:00:00             7.3                    78            19.6\n",
      "21 2024-03-11 21:00:00             7.2                    80            19.8\n",
      "22 2024-03-11 22:00:00             7.3                    79            18.5\n",
      "23 2024-03-11 23:00:00             7.4                    79            18.4\n"
     ]
    }
   ],
   "source": [
    "import pandas as pd\n",
    "\n",
    "# Convert the dictionary into a pandas DataFrame\n",
    "df = pd.DataFrame(data)\n",
    "\n",
    "# If you want the 'time' column to be a datetime type (optional but often useful)\n",
    "df['time'] = pd.to_datetime(df['time'])\n",
    "\n",
    "print(df)"
   ]
  },
  {
   "cell_type": "code",
   "execution_count": 13,
   "metadata": {},
   "outputs": [],
   "source": [
    "df.to_csv('../data/raw/weather/weather_api.csv')"
   ]
  }
 ],
 "metadata": {
  "kernelspec": {
   "display_name": "Python 3",
   "language": "python",
   "name": "python3"
  },
  "language_info": {
   "codemirror_mode": {
    "name": "ipython",
    "version": 3
   },
   "file_extension": ".py",
   "mimetype": "text/x-python",
   "name": "python",
   "nbconvert_exporter": "python",
   "pygments_lexer": "ipython3",
   "version": "3.9.10"
  }
 },
 "nbformat": 4,
 "nbformat_minor": 2
}

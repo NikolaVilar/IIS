{
 "cells": [
  {
   "cell_type": "code",
   "execution_count": 16,
   "metadata": {},
   "outputs": [],
   "source": [
    "from src.constants.model_constants import window_size\n",
    "from src.constants.data_constants import processed_data_path\n",
    "from src.models.utils import helper\n",
    "import numpy as np\n",
    "\n"
   ]
  },
  {
   "cell_type": "code",
   "execution_count": null,
   "metadata": {},
   "outputs": [],
   "source": [
    "def create_dataset(dataset, look_back=(24 * 7)):\n",
    " dataX, dataY= [], []\n",
    " for i in range(len(dataset)-look_back-1):\n",
    "    dataX.append(dataset[i:(i+look_back)])\n",
    "    dataY.append(dataset[i + look_back])\n",
    " return np.array(dataX).reshape(-1, 1, look_back).astype('float32'), np.array(dataY).reshape(-1).astype('float32')"
   ]
  },
  {
   "cell_type": "code",
   "execution_count": 18,
   "metadata": {},
   "outputs": [
    {
     "name": "stdout",
     "output_type": "stream",
     "text": [
      "2347\n",
      "(2335, 12, 4)\n"
     ]
    }
   ],
   "source": [
    "df = helper.load_data(processed_data_path)\n",
    "df = df.drop(columns='date_hour')\n",
    "\n",
    "print(len(df))\n",
    "\n",
    "X = []\n",
    "y = []\n",
    "\n",
    "for i in range(len(df.columns)):\n",
    "    X.append(df.iloc[i:i+window_size].values)\n",
    "    y.append(df.iloc[i+window_size].values)  \n",
    "X = np.array(X)\n",
    "y = np.array(y)\n",
    "\n",
    "print(X.shape)"
   ]
  }
 ],
 "metadata": {
  "kernelspec": {
   "display_name": ".venv",
   "language": "python",
   "name": "python3"
  },
  "language_info": {
   "codemirror_mode": {
    "name": "ipython",
    "version": 3
   },
   "file_extension": ".py",
   "mimetype": "text/x-python",
   "name": "python",
   "nbconvert_exporter": "python",
   "pygments_lexer": "ipython3",
   "version": "3.9.10"
  }
 },
 "nbformat": 4,
 "nbformat_minor": 2
}
